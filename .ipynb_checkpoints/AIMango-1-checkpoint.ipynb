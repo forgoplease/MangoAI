{
 "cells": [
  {
   "cell_type": "markdown",
   "metadata": {
    "colab_type": "text",
    "id": "7pkSTQbnky4Q"
   },
   "source": [
    "## Connect GoogleColab"
   ]
  },
  {
   "cell_type": "markdown",
   "metadata": {
    "colab_type": "text",
    "id": "bUJCH3yIky4W"
   },
   "source": [
    "## 一、載入相關套件"
   ]
  },
  {
   "cell_type": "code",
   "execution_count": 1,
   "metadata": {
    "colab": {},
    "colab_type": "code",
    "id": "uhSAutMdky4X"
   },
   "outputs": [],
   "source": [
    "# 資料處理套件\n",
    "import os\n",
    "import cv2\n",
    "import csv\n",
    "import random\n",
    "import time\n",
    "import numpy as np\n",
    "import pandas as pd\n",
    "import matplotlib.image as mpimg # mpimg 用於讀取圖片\n",
    "import matplotlib.pyplot as plt # plt 用於顯示圖片\n",
    "import seaborn as sns"
   ]
  },
  {
   "cell_type": "code",
   "execution_count": 2,
   "metadata": {
    "colab": {},
    "colab_type": "code",
    "id": "ToAwBKMcky4b"
   },
   "outputs": [],
   "source": [
    "# 設定顯示中文字體\n",
    "from matplotlib.font_manager import FontProperties\n",
    "plt.rcParams['font.sans-serif'] = ['Microsoft JhengHei'] "
   ]
  },
  {
   "cell_type": "code",
   "execution_count": 3,
   "metadata": {
    "colab": {},
    "colab_type": "code",
    "id": "6nvC5t61ky4e"
   },
   "outputs": [
    {
     "name": "stdout",
     "output_type": "stream",
     "text": [
      "WARNING:tensorflow:From /home/ec2-user/anaconda3/envs/tensorflow_p36/lib/python3.6/site-packages/tensorflow_core/__init__.py:1473: The name tf.estimator.inputs is deprecated. Please use tf.compat.v1.estimator.inputs instead.\n",
      "\n"
     ]
    }
   ],
   "source": [
    "# 深度學習模組套件\n",
    "from tensorflow.keras.utils import to_categorical\n",
    "from tensorflow.keras.preprocessing.image import ImageDataGenerator, array_to_img, img_to_array, load_img\n",
    "from tensorflow.keras.optimizers import RMSprop\n",
    "from tensorflow.keras.models import Sequential\n",
    "from tensorflow.keras import utils as np_utils\n",
    "from tensorflow.keras import backend as K\n",
    "from tensorflow.keras import optimizers\n",
    "from tensorflow.keras import models\n",
    "from tensorflow.keras import layers\n",
    "from tensorflow import keras\n",
    "import tensorflow as tf"
   ]
  },
  {
   "cell_type": "code",
   "execution_count": 5,
   "metadata": {},
   "outputs": [
    {
     "name": "stdout",
     "output_type": "stream",
     "text": [
      "1 Physical GPUs, 1 Logical GPUs\n"
     ]
    }
   ],
   "source": [
    "gpus = tf.config.experimental.list_physical_devices('GPU')\n",
    "if gpus:\n",
    "    try:\n",
    "        # Currently, memory growth needs to be the same across GPUs\n",
    "        for gpu in gpus:\n",
    "            tf.config.experimental.set_memory_growth(gpu, True)\n",
    "        tf.config.experimental.set_visible_devices(gpus[0], 'GPU')\n",
    "        logical_gpus = tf.config.experimental.list_logical_devices('GPU')\n",
    "        print(len(gpus), \"Physical GPUs,\", len(logical_gpus), \"Logical GPUs\")\n",
    "    except RuntimeError as e:\n",
    "        # Memory growth must be set before GPUs have been initialized\n",
    "        print(e)\n",
    "        "
   ]
  },
  {
   "cell_type": "code",
   "execution_count": 10,
   "metadata": {},
   "outputs": [
    {
     "name": "stdout",
     "output_type": "stream",
     "text": [
      "Start Time 2020-05-19 16:55:23.790420+08:00\n"
     ]
    }
   ],
   "source": [
    "# Print Start time\n",
    "from datetime import datetime, timezone\n",
    "import pytz\n",
    "\n",
    "tpe = pytz.timezone('Asia/Taipei')\n",
    "utc_start = datetime.now()\n",
    "print(\"Start Time\", tpe.fromutc(utc_start))"
   ]
  },
  {
   "cell_type": "markdown",
   "metadata": {
    "colab_type": "text",
    "id": "UIMDkuytky4t"
   },
   "source": [
    "## 二、讀取資料"
   ]
  },
  {
   "cell_type": "code",
   "execution_count": 7,
   "metadata": {
    "colab": {},
    "colab_type": "code",
    "id": "qEusWerSky4u"
   },
   "outputs": [
    {
     "data": {
      "text/html": [
       "<div>\n",
       "<style scoped>\n",
       "    .dataframe tbody tr th:only-of-type {\n",
       "        vertical-align: middle;\n",
       "    }\n",
       "\n",
       "    .dataframe tbody tr th {\n",
       "        vertical-align: top;\n",
       "    }\n",
       "\n",
       "    .dataframe thead th {\n",
       "        text-align: right;\n",
       "    }\n",
       "</style>\n",
       "<table border=\"1\" class=\"dataframe\">\n",
       "  <thead>\n",
       "    <tr style=\"text-align: right;\">\n",
       "      <th></th>\n",
       "      <th>image_id</th>\n",
       "      <th>label</th>\n",
       "    </tr>\n",
       "  </thead>\n",
       "  <tbody>\n",
       "    <tr>\n",
       "      <th>0</th>\n",
       "      <td>00002.jpg</td>\n",
       "      <td>C</td>\n",
       "    </tr>\n",
       "    <tr>\n",
       "      <th>1</th>\n",
       "      <td>00003.jpg</td>\n",
       "      <td>C</td>\n",
       "    </tr>\n",
       "    <tr>\n",
       "      <th>2</th>\n",
       "      <td>00004.jpg</td>\n",
       "      <td>B</td>\n",
       "    </tr>\n",
       "    <tr>\n",
       "      <th>3</th>\n",
       "      <td>00005.jpg</td>\n",
       "      <td>A</td>\n",
       "    </tr>\n",
       "    <tr>\n",
       "      <th>4</th>\n",
       "      <td>00007.jpg</td>\n",
       "      <td>A</td>\n",
       "    </tr>\n",
       "  </tbody>\n",
       "</table>\n",
       "</div>"
      ],
      "text/plain": [
       "    image_id label\n",
       "0  00002.jpg     C\n",
       "1  00003.jpg     C\n",
       "2  00004.jpg     B\n",
       "3  00005.jpg     A\n",
       "4  00007.jpg     A"
      ]
     },
     "execution_count": 7,
     "metadata": {},
     "output_type": "execute_result"
    }
   ],
   "source": [
    "# 讀取資料集標籤檔\n",
    "train_label = pd.read_csv(\"train.csv\",encoding=\"utf8\")\n",
    "train_label.head()"
   ]
  },
  {
   "cell_type": "code",
   "execution_count": 8,
   "metadata": {
    "colab": {},
    "colab_type": "code",
    "id": "IzDVe5Suky40"
   },
   "outputs": [],
   "source": [
    "# 串接圖片檔的路徑 & 讀取路徑中的圖片\n",
    "train_pics_path = os.path.join(\"C1-P1_Train\")\n",
    "train_mango_fnames = os.listdir(train_pics_path)"
   ]
  },
  {
   "cell_type": "code",
   "execution_count": 9,
   "metadata": {
    "colab": {
     "base_uri": "https://localhost:8080/",
     "height": 68
    },
    "colab_type": "code",
    "executionInfo": {
     "elapsed": 2023,
     "status": "ok",
     "timestamp": 1586322808362,
     "user": {
      "displayName": "Eddie Shen",
      "photoUrl": "",
      "userId": "15549488555491234711"
     },
     "user_tz": -480
    },
    "id": "B596KSnxky46",
    "outputId": "4f305807-5af4-44ed-89ff-e898a9a762f9"
   },
   "outputs": [
    {
     "name": "stdout",
     "output_type": "stream",
     "text": [
      "03941.jpg\n",
      "07264.jpg\n",
      "03181.jpg\n"
     ]
    }
   ],
   "source": [
    "# 檢視是否有讀取到圖片\n",
    "print(train_mango_fnames[0])\n",
    "print(train_mango_fnames[1])\n",
    "print(train_mango_fnames[2])"
   ]
  },
  {
   "cell_type": "code",
   "execution_count": 10,
   "metadata": {
    "colab": {},
    "colab_type": "code",
    "id": "__aNQ61bky49"
   },
   "outputs": [
    {
     "data": {
      "text/html": [
       "<div>\n",
       "<style scoped>\n",
       "    .dataframe tbody tr th:only-of-type {\n",
       "        vertical-align: middle;\n",
       "    }\n",
       "\n",
       "    .dataframe tbody tr th {\n",
       "        vertical-align: top;\n",
       "    }\n",
       "\n",
       "    .dataframe thead th {\n",
       "        text-align: right;\n",
       "    }\n",
       "</style>\n",
       "<table border=\"1\" class=\"dataframe\">\n",
       "  <thead>\n",
       "    <tr style=\"text-align: right;\">\n",
       "      <th></th>\n",
       "      <th>image_id</th>\n",
       "      <th>label</th>\n",
       "    </tr>\n",
       "  </thead>\n",
       "  <tbody>\n",
       "    <tr>\n",
       "      <th>0</th>\n",
       "      <td>00002.jpg</td>\n",
       "      <td>C</td>\n",
       "    </tr>\n",
       "    <tr>\n",
       "      <th>1</th>\n",
       "      <td>00003.jpg</td>\n",
       "      <td>C</td>\n",
       "    </tr>\n",
       "    <tr>\n",
       "      <th>2</th>\n",
       "      <td>00004.jpg</td>\n",
       "      <td>B</td>\n",
       "    </tr>\n",
       "    <tr>\n",
       "      <th>3</th>\n",
       "      <td>00005.jpg</td>\n",
       "      <td>A</td>\n",
       "    </tr>\n",
       "    <tr>\n",
       "      <th>4</th>\n",
       "      <td>00007.jpg</td>\n",
       "      <td>A</td>\n",
       "    </tr>\n",
       "  </tbody>\n",
       "</table>\n",
       "</div>"
      ],
      "text/plain": [
       "    image_id label\n",
       "0  00002.jpg     C\n",
       "1  00003.jpg     C\n",
       "2  00004.jpg     B\n",
       "3  00005.jpg     A\n",
       "4  00007.jpg     A"
      ]
     },
     "execution_count": 10,
     "metadata": {},
     "output_type": "execute_result"
    }
   ],
   "source": [
    "# 用於瀏覽標籤檔的概況\n",
    "label_Survey = pd.read_csv(\"train.csv\",encoding=\"utf8\")\n",
    "label_Survey.head()"
   ]
  },
  {
   "cell_type": "code",
   "execution_count": 11,
   "metadata": {
    "colab": {
     "base_uri": "https://localhost:8080/",
     "height": 432
    },
    "colab_type": "code",
    "executionInfo": {
     "elapsed": 1618,
     "status": "ok",
     "timestamp": 1586322809924,
     "user": {
      "displayName": "Eddie Shen",
      "photoUrl": "",
      "userId": "15549488555491234711"
     },
     "user_tz": -480
    },
    "id": "H3qI2WNIky5C",
    "outputId": "8872aa73-f490-41b7-ffcf-01e15273f7cc"
   },
   "outputs": [
    {
     "data": {
      "text/plain": [
       "label\n",
       "A    1792\n",
       "B    2068\n",
       "C    1740\n",
       "dtype: int64"
      ]
     },
     "execution_count": 11,
     "metadata": {},
     "output_type": "execute_result"
    },
    {
     "name": "stderr",
     "output_type": "stream",
     "text": [
      "findfont: Font family ['sans-serif'] not found. Falling back to DejaVu Sans.\n"
     ]
    },
    {
     "data": {
      "image/png": "[encoded data removed]",
      "text/plain": [
       "<Figure size 432x288 with 1 Axes>"
      ]
     },
     "metadata": {
      "needs_background": "light"
     },
     "output_type": "display_data"
    }
   ],
   "source": [
    "sns.countplot(label_Survey['label'], hue = label_Survey[\"label\"])\n",
    "sector = label_Survey.groupby('label')\n",
    "sector.size()"
   ]
  },
  {
   "cell_type": "markdown",
   "metadata": {
    "colab_type": "text",
    "id": "hODXuJGeky5J"
   },
   "source": [
    "## 三、顯示芒果圖片"
   ]
  },
  {
   "cell_type": "raw",
   "metadata": {
    "colab": {
     "base_uri": "https://localhost:8080/",
     "height": 34
    },
    "colab_type": "code",
    "executionInfo": {
     "elapsed": 1926,
     "status": "ok",
     "timestamp": 1586322813239,
     "user": {
      "displayName": "Eddie Shen",
      "photoUrl": "",
      "userId": "15549488555491234711"
     },
     "user_tz": -480
    },
    "id": "dthK9fxzky5K",
    "outputId": "805c1563-3286-4093-e21e-3db503e47e74"
   },
   "source": [
    "# 讀取圖檔\n",
    "img = mpimg.imread(\"C1-P1_Train/00009.jpg\")\n",
    "# 查看資料型態\n",
    "type(img)\n",
    "# 顯示圖片的比例\n",
    "img.shape\n",
    "# 把圖片的比例壓縮至800x800 \n",
    "res = cv2.resize(img,(800,800),interpolation=cv2.INTER_LINEAR)\n",
    "# 顯示壓縮後圖片的比例\n",
    "res.shape\n",
    "# 顯示原圖的芒果照片\n",
    "plt.imshow(img)\n",
    "plt.axis('off')\n",
    "plt.show()\n",
    "# 顯示壓縮過原圖的芒果照片\n",
    "plt.imshow(res)\n",
    "plt.axis('off')\n",
    "plt.show()"
   ]
  },
  {
   "cell_type": "markdown",
   "metadata": {
    "colab_type": "text",
    "id": "1Ce_FCtAky5b"
   },
   "source": [
    "## 四、製作標籤&資料集"
   ]
  },
  {
   "cell_type": "code",
   "execution_count": 12,
   "metadata": {
    "colab": {},
    "colab_type": "code",
    "id": "n3rX2gA5ky5c"
   },
   "outputs": [],
   "source": [
    "csvfile = open('train.csv')\n",
    "reader = csv.reader(csvfile)"
   ]
  },
  {
   "cell_type": "code",
   "execution_count": 13,
   "metadata": {
    "colab": {},
    "colab_type": "code",
    "id": "LXZeKFOQky5g"
   },
   "outputs": [],
   "source": [
    "# 讀取csv標籤\n",
    "labels = []\n",
    "for line in reader:\n",
    "    tmp = [line[0],line[1]]\n",
    "    # print tmp\n",
    "    labels.append(tmp)\n",
    "csvfile.close() "
   ]
  },
  {
   "cell_type": "code",
   "execution_count": 14,
   "metadata": {},
   "outputs": [
    {
     "name": "stdout",
     "output_type": "stream",
     "text": [
      "芒果圖片數量:  5600\n"
     ]
    }
   ],
   "source": [
    "# remove the first row\n",
    "labels = labels[1:]\n",
    "print(\"芒果圖片數量: \",len(labels))"
   ]
  },
  {
   "cell_type": "code",
   "execution_count": 15,
   "metadata": {
    "colab": {},
    "colab_type": "code",
    "id": "aG4X4zzmky5q"
   },
   "outputs": [],
   "source": [
    "# 轉換圖片的標籤\n",
    "for i in range(len(labels)):\n",
    "    labels[i][1] = labels[i][1].replace(\"A\",\"0\")\n",
    "    labels[i][1] = labels[i][1].replace(\"B\",\"1\")\n",
    "    labels[i][1] = labels[i][1].replace(\"C\",\"2\")"
   ]
  },
  {
   "cell_type": "code",
   "execution_count": 16,
   "metadata": {
    "colab": {},
    "colab_type": "code",
    "id": "XasMaXzVky5s"
   },
   "outputs": [],
   "source": [
    "# 隨機讀取圖片\n",
    "a = 0\n",
    "items= []\n",
    "import random\n",
    "for a in range(0,len(labels)):\n",
    "    items.append(a)"
   ]
  },
  {
   "cell_type": "code",
   "execution_count": 17,
   "metadata": {
    "colab": {},
    "colab_type": "code",
    "id": "sYQnxHHVky5w"
   },
   "outputs": [],
   "source": [
    "# 製作訓練用資料集及標籤\n",
    "X = []\n",
    "y = []\n",
    "\n",
    "for i in random.sample(items,round(len(items)/4)):\n",
    "#     print(i)\n",
    "    img = cv2.imread(\"C1-P1_Train/\" + labels[i][0] )\n",
    "    res = cv2.resize(img,(800,800),interpolation=cv2.INTER_LINEAR)\n",
    "    res = img_to_array(res)\n",
    "    X.append(res)    \n",
    "    y.append(labels[i][1])"
   ]
  },
  {
   "cell_type": "code",
   "execution_count": 18,
   "metadata": {
    "colab": {},
    "colab_type": "code",
    "id": "iZhyU2ANky5y"
   },
   "outputs": [],
   "source": [
    "y_label_org = y"
   ]
  },
  {
   "cell_type": "code",
   "execution_count": 19,
   "metadata": {
    "colab": {},
    "colab_type": "code",
    "id": "U7d5quZCky55"
   },
   "outputs": [],
   "source": [
    "# 轉換至array的格式\n",
    "X = np.array(X)\n",
    "y = np.array(y)"
   ]
  },
  {
   "cell_type": "code",
   "execution_count": 20,
   "metadata": {
    "colab": {},
    "colab_type": "code",
    "id": "8BIgyAY7ky57"
   },
   "outputs": [],
   "source": [
    "# 轉換至float的格式\n",
    "for i in range(len(X)):\n",
    "    X[i] = X[i].astype('float32')"
   ]
  },
  {
   "cell_type": "code",
   "execution_count": 21,
   "metadata": {
    "colab": {
     "base_uri": "https://localhost:8080/",
     "height": 85
    },
    "colab_type": "code",
    "executionInfo": {
     "elapsed": 98104,
     "status": "ok",
     "timestamp": 1586322938098,
     "user": {
      "displayName": "Eddie Shen",
      "photoUrl": "",
      "userId": "15549488555491234711"
     },
     "user_tz": -480
    },
    "id": "AKmCzMGsky59",
    "outputId": "ec829827-fa54-44de-8637-0539baa05975"
   },
   "outputs": [
    {
     "name": "stdout",
     "output_type": "stream",
     "text": [
      "<class 'numpy.ndarray'>\n",
      "(1400, 800, 800, 3)\n",
      "(800, 800, 3)\n",
      "<class 'numpy.ndarray'>\n"
     ]
    }
   ],
   "source": [
    "# 打映圖片訓練集的概況\n",
    "# print(X[0])\n",
    "print(type(X))\n",
    "print(X.shape)\n",
    "\n",
    "print(X[0].shape)\n",
    "print(type(X[0]))"
   ]
  },
  {
   "cell_type": "code",
   "execution_count": 22,
   "metadata": {
    "colab": {},
    "colab_type": "code",
    "id": "fucIRN4Uky5_"
   },
   "outputs": [],
   "source": [
    "# 將標籤轉換至float格式\n",
    "y = tf.strings.to_number(y, out_type=tf.float32)"
   ]
  },
  {
   "cell_type": "code",
   "execution_count": 23,
   "metadata": {
    "colab": {
     "base_uri": "https://localhost:8080/",
     "height": 51
    },
    "colab_type": "code",
    "executionInfo": {
     "elapsed": 1910,
     "status": "ok",
     "timestamp": 1586322980129,
     "user": {
      "displayName": "Eddie Shen",
      "photoUrl": "",
      "userId": "15549488555491234711"
     },
     "user_tz": -480
    },
    "id": "BlRzPppPky6B",
    "outputId": "0a41ac00-c108-44a9-f393-de113e1c9a26"
   },
   "outputs": [
    {
     "name": "stdout",
     "output_type": "stream",
     "text": [
      "tf.Tensor(0.0, shape=(), dtype=float32)\n",
      "<class 'tensorflow.python.framework.ops.EagerTensor'>\n"
     ]
    }
   ],
   "source": [
    "# 打映圖片標籤的概況\n",
    "print(y[0])\n",
    "print(type(y[0]))"
   ]
  },
  {
   "cell_type": "code",
   "execution_count": 24,
   "metadata": {
    "colab": {},
    "colab_type": "code",
    "id": "Eq-1jCCaky6D"
   },
   "outputs": [],
   "source": [
    "# 標籤進行one-hotencoding\n",
    "y = np_utils.to_categorical(y, num_classes = 3)"
   ]
  },
  {
   "cell_type": "code",
   "execution_count": 25,
   "metadata": {
    "colab": {
     "base_uri": "https://localhost:8080/",
     "height": 34
    },
    "colab_type": "code",
    "executionInfo": {
     "elapsed": 2392,
     "status": "ok",
     "timestamp": 1586322982073,
     "user": {
      "displayName": "Eddie Shen",
      "photoUrl": "",
      "userId": "15549488555491234711"
     },
     "user_tz": -480
    },
    "id": "CiqdGCCAky6G",
    "outputId": "7b206d4a-3136-4f2a-fcfd-b6ba8988c213"
   },
   "outputs": [
    {
     "data": {
      "text/plain": [
       "array([1., 0., 0.], dtype=float32)"
      ]
     },
     "execution_count": 25,
     "metadata": {},
     "output_type": "execute_result"
    }
   ],
   "source": [
    "y[0]"
   ]
  },
  {
   "cell_type": "markdown",
   "metadata": {
    "colab_type": "text",
    "id": "B_tpTHuwky6I"
   },
   "source": [
    "## 五、製作訓練資料集"
   ]
  },
  {
   "cell_type": "code",
   "execution_count": null,
   "metadata": {},
   "outputs": [],
   "source": []
  },
  {
   "cell_type": "code",
   "execution_count": 26,
   "metadata": {
    "colab": {},
    "colab_type": "code",
    "id": "gcHqHmdtH8Yx"
   },
   "outputs": [],
   "source": [
    "# 分配訓練集及測試集比例\n",
    "x_train = X[:84]\n",
    "y_train = y[:84]\n",
    "x_test = X[84:]\n",
    "y_test = y[84:]"
   ]
  },
  {
   "cell_type": "code",
   "execution_count": 27,
   "metadata": {
    "colab": {},
    "colab_type": "code",
    "id": "ZQwUinV8ky6O"
   },
   "outputs": [],
   "source": [
    "y_train_label = [0.,0.,0.]\n",
    "\n",
    "for i in range(0,len(y_train)):\n",
    "    y_train_label = y_train[i] + y_train_label"
   ]
  },
  {
   "cell_type": "code",
   "execution_count": 28,
   "metadata": {
    "colab": {},
    "colab_type": "code",
    "id": "7mYxm5tWky6Q"
   },
   "outputs": [],
   "source": [
    "y_test_label = [0.,0.,0.]\n",
    "\n",
    "for i in range(0,len(y_test)):\n",
    "    y_test_label = y_test[i] + y_test_label"
   ]
  },
  {
   "cell_type": "code",
   "execution_count": 29,
   "metadata": {
    "colab": {
     "base_uri": "https://localhost:8080/",
     "height": 34
    },
    "colab_type": "code",
    "executionInfo": {
     "elapsed": 1907,
     "status": "ok",
     "timestamp": 1586323015891,
     "user": {
      "displayName": "Eddie Shen",
      "photoUrl": "",
      "userId": "15549488555491234711"
     },
     "user_tz": -480
    },
    "id": "NeaCWuopky6S",
    "outputId": "df32638d-c105-4332-ad45-b5b7470fe28c"
   },
   "outputs": [
    {
     "data": {
      "text/plain": [
       "array([41., 26., 17.])"
      ]
     },
     "execution_count": 29,
     "metadata": {},
     "output_type": "execute_result"
    }
   ],
   "source": [
    "y_train_label"
   ]
  },
  {
   "cell_type": "code",
   "execution_count": 30,
   "metadata": {
    "colab": {
     "base_uri": "https://localhost:8080/",
     "height": 34
    },
    "colab_type": "code",
    "executionInfo": {
     "elapsed": 2584,
     "status": "ok",
     "timestamp": 1586323019013,
     "user": {
      "displayName": "Eddie Shen",
      "photoUrl": "",
      "userId": "15549488555491234711"
     },
     "user_tz": -480
    },
    "id": "-yYjqm8Pky6T",
    "outputId": "a39cd193-1027-4bbb-f499-21177da0de24"
   },
   "outputs": [
    {
     "data": {
      "text/plain": [
       "array([396., 531., 389.])"
      ]
     },
     "execution_count": 30,
     "metadata": {},
     "output_type": "execute_result"
    }
   ],
   "source": [
    "y_test_label"
   ]
  },
  {
   "cell_type": "code",
   "execution_count": 31,
   "metadata": {
    "colab": {
     "base_uri": "https://localhost:8080/",
     "height": 85
    },
    "colab_type": "code",
    "executionInfo": {
     "elapsed": 2075,
     "status": "ok",
     "timestamp": 1586323019794,
     "user": {
      "displayName": "Eddie Shen",
      "photoUrl": "",
      "userId": "15549488555491234711"
     },
     "user_tz": -480
    },
    "id": "iSR_rVMCky6V",
    "outputId": "ed7abe1f-2af0-4dbf-ed81-e6590a4ea5a0"
   },
   "outputs": [
    {
     "name": "stdout",
     "output_type": "stream",
     "text": [
      "<class 'numpy.ndarray'>\n",
      "84\n",
      "(84, 800, 800, 3)\n",
      "<class 'numpy.ndarray'>\n"
     ]
    }
   ],
   "source": [
    "print(type(x_train))\n",
    "print(len(x_train))\n",
    "print(x_train.shape)\n",
    "print(type(x_train[0]))"
   ]
  },
  {
   "cell_type": "markdown",
   "metadata": {
    "colab_type": "text",
    "id": "jSgZDN_Gky6X"
   },
   "source": [
    "## 六、建立與訓練深度學習Model"
   ]
  },
  {
   "cell_type": "code",
   "execution_count": 32,
   "metadata": {
    "colab": {
     "base_uri": "https://localhost:8080/",
     "height": 561
    },
    "colab_type": "code",
    "executionInfo": {
     "elapsed": 910,
     "status": "ok",
     "timestamp": 1586323021946,
     "user": {
      "displayName": "Eddie Shen",
      "photoUrl": "",
      "userId": "15549488555491234711"
     },
     "user_tz": -480
    },
    "id": "7d3HiBH0ky6X",
    "outputId": "debc586c-ecd7-445a-eeb8-310e5207ed5f"
   },
   "outputs": [
    {
     "name": "stdout",
     "output_type": "stream",
     "text": [
      "Model: \"sequential\"\n",
      "_________________________________________________________________\n",
      "Layer (type)                 Output Shape              Param #   \n",
      "=================================================================\n",
      "conv2d (Conv2D)              (None, 800, 800, 16)      448       \n",
      "_________________________________________________________________\n",
      "batch_normalization (BatchNo (None, 800, 800, 16)      64        \n",
      "_________________________________________________________________\n",
      "max_pooling2d (MaxPooling2D) (None, 400, 400, 16)      0         \n",
      "_________________________________________________________________\n",
      "conv2d_1 (Conv2D)            (None, 400, 400, 32)      4640      \n",
      "_________________________________________________________________\n",
      "max_pooling2d_1 (MaxPooling2 (None, 200, 200, 32)      0         \n",
      "_________________________________________________________________\n",
      "conv2d_2 (Conv2D)            (None, 200, 200, 64)      18496     \n",
      "_________________________________________________________________\n",
      "max_pooling2d_2 (MaxPooling2 (None, 100, 100, 64)      0         \n",
      "_________________________________________________________________\n",
      "flatten (Flatten)            (None, 640000)            0         \n",
      "_________________________________________________________________\n",
      "dense (Dense)                (None, 64)                40960064  \n",
      "_________________________________________________________________\n",
      "dense_1 (Dense)              (None, 128)               8320      \n",
      "_________________________________________________________________\n",
      "dropout (Dropout)            (None, 128)               0         \n",
      "_________________________________________________________________\n",
      "dense_2 (Dense)              (None, 3)                 387       \n",
      "=================================================================\n",
      "Total params: 40,992,419\n",
      "Trainable params: 40,992,387\n",
      "Non-trainable params: 32\n",
      "_________________________________________________________________\n"
     ]
    }
   ],
   "source": [
    "# 建立深度學習CNN Model\n",
    "\n",
    "model = tf.keras.Sequential()\n",
    "\n",
    "model.add(layers.Conv2D(16,(3,3),\n",
    "                 strides=(1,1),\n",
    "                 input_shape=(800, 800, 3),\n",
    "                 padding='same',\n",
    "                 activation='relu',\n",
    "                 ))\n",
    "\n",
    "model.add(layers.BatchNormalization())\n",
    "\n",
    "model.add(layers.MaxPooling2D(pool_size=(2,2),strides=None))\n",
    "\n",
    "model.add(layers.Conv2D(32,(3,3),\n",
    "                 strides=(1,1),\n",
    "                 padding='same',\n",
    "                 activation='relu',\n",
    "                 ))\n",
    "\n",
    "model.add(layers.MaxPooling2D(pool_size=(2,2),strides=None))\n",
    "\n",
    "model.add(layers.Conv2D(64,(3,3),\n",
    "                 strides=(1,1),\n",
    "                 padding='same',\n",
    "                 activation='relu',\n",
    "                 ))\n",
    "\n",
    "model.add(layers.MaxPooling2D(pool_size=(2,2),strides=None))\n",
    "\n",
    "model.add(layers.Flatten())\n",
    "\n",
    "model.add(layers.Dense(64,activation='relu'))\n",
    "\n",
    "model.add(layers.Dense(128,activation='relu'))\n",
    "\n",
    "\n",
    "model.add(layers.Dropout(0.2))\n",
    "\n",
    "model.add(layers.Dense(3,activation='softmax'))\n",
    "\n",
    "model.summary()"
   ]
  },
  {
   "cell_type": "raw",
   "metadata": {
    "colab_type": "text",
    "id": "XXgN-ONmky6c"
   },
   "source": [
    "history = model.compile(optimizer='adam',\n",
    "              loss=tf.keras.losses.SparseCategoricalCrossentropy(),\n",
    "              metrics=[tf.keras.metrics.SparseCategoricalAccuracy()])"
   ]
  },
  {
   "cell_type": "code",
   "execution_count": 33,
   "metadata": {
    "colab": {},
    "colab_type": "code",
    "id": "kbzQaqoVky6c"
   },
   "outputs": [],
   "source": [
    "adam = optimizers.Adam(lr=0.05)\n",
    "model.compile(optimizer='adam',\n",
    "              loss=tf.keras.losses.CategoricalCrossentropy(),\n",
    "              metrics=['acc'])"
   ]
  },
  {
   "cell_type": "code",
   "execution_count": 34,
   "metadata": {
    "colab": {},
    "colab_type": "code",
    "id": "aoKLYjDwky6e"
   },
   "outputs": [],
   "source": [
    "# zca_whitening 對輸入數據施加ZCA白化\n",
    "# rotation_range 數據提升時圖片隨機轉動的角度\n",
    "# width_shift_range 圖片寬度的某個比例，數據提升時圖片水平偏移的幅度\n",
    "# shear_range 剪切強度（逆時針方向的剪切變換角度）\n",
    "# zoom_range 隨機縮放的幅度\n",
    "# horizontal_flip 進行隨機水平翻轉\n",
    "# fill_mode ‘constant’，‘nearest’，‘reflect’或‘wrap’之一，當進行變換時超出邊界的點將根據本參數給定的方法進行處理\n",
    "\n",
    "datagen = ImageDataGenerator(\n",
    "    zca_whitening=False,\n",
    "    rotation_range=40,\n",
    "    width_shift_range=0.2,\n",
    "    height_shift_range=0.2,\n",
    "    shear_range=0.2,\n",
    "    zoom_range=0.2,\n",
    "    horizontal_flip=True,\n",
    "    fill_mode='nearest')"
   ]
  },
  {
   "cell_type": "code",
   "execution_count": 35,
   "metadata": {
    "colab": {
     "base_uri": "https://localhost:8080/",
     "height": 34
    },
    "colab_type": "code",
    "executionInfo": {
     "elapsed": 1051,
     "status": "ok",
     "timestamp": 1586323026514,
     "user": {
      "displayName": "Eddie Shen",
      "photoUrl": "",
      "userId": "15549488555491234711"
     },
     "user_tz": -480
    },
    "id": "_5jKNPtDLnHy",
    "outputId": "3895845c-6a1f-4af2-c91e-bc03909027b7"
   },
   "outputs": [
    {
     "name": "stdout",
     "output_type": "stream",
     "text": [
      "rescale！done!\n"
     ]
    }
   ],
   "source": [
    "# 導入圖像增強參數\n",
    "datagen.fit(x_train)\n",
    "x_train = x_train/255\n",
    "x_test = x_test/255\n",
    "print('rescale！done!')"
   ]
  },
  {
   "cell_type": "code",
   "execution_count": 36,
   "metadata": {
    "colab": {},
    "colab_type": "code",
    "id": "hYT65lw9ky6h"
   },
   "outputs": [],
   "source": [
    "# 設定超參數HyperParameters \n",
    "batch_size =  4\n",
    "epochs = 10"
   ]
  },
  {
   "cell_type": "code",
   "execution_count": 37,
   "metadata": {
    "colab": {},
    "colab_type": "code",
    "id": "jWzNYwUUky6i"
   },
   "outputs": [],
   "source": [
    "# 檔名設定\n",
    "file_name = str(epochs)+'_'+str(batch_size)"
   ]
  },
  {
   "cell_type": "code",
   "execution_count": 38,
   "metadata": {
    "colab": {},
    "colab_type": "code",
    "id": "f_hwYf7zky6k"
   },
   "outputs": [],
   "source": [
    "# 加入EarlyStopping以及Tensorboard等回調函數\n",
    "CB = tf.keras.callbacks.EarlyStopping(monitor='val_loss', patience=2)\n",
    "TB = keras.callbacks.TensorBoard(log_dir='./log'+\"_\"+file_name, histogram_freq=1)"
   ]
  },
  {
   "cell_type": "markdown",
   "metadata": {},
   "source": [
    "### Start Training"
   ]
  },
  {
   "cell_type": "markdown",
   "metadata": {},
   "source": [
    "history = model.fit(\n",
    "    x = x_train , y = y_train,\n",
    "    batch_size = batch_size,\n",
    "    epochs = epochs,\n",
    "    validation_split = 0.2,\n",
    "    callbacks = [CB]\n",
    ")"
   ]
  },
  {
   "cell_type": "code",
   "execution_count": 39,
   "metadata": {},
   "outputs": [
    {
     "name": "stdout",
     "output_type": "stream",
     "text": [
      "Train on 67 samples, validate on 17 samples\n",
      "Epoch 1/10\n",
      "67/67 [==============================] - 44s 661ms/sample - loss: 8.1966 - acc: 0.4478 - val_loss: 1.1100 - val_acc: 0.2353\n",
      "Epoch 2/10\n",
      "67/67 [==============================] - 40s 590ms/sample - loss: 0.8901 - acc: 0.6269 - val_loss: 1.1087 - val_acc: 0.2941\n",
      "Epoch 3/10\n",
      "67/67 [==============================] - 40s 590ms/sample - loss: 0.8790 - acc: 0.6716 - val_loss: 1.1529 - val_acc: 0.2941\n",
      "Epoch 4/10\n",
      "67/67 [==============================] - 40s 593ms/sample - loss: 0.5987 - acc: 0.7612 - val_loss: 1.1099 - val_acc: 0.2353\n",
      "Epoch 5/10\n",
      "67/67 [==============================] - 40s 604ms/sample - loss: 0.4529 - acc: 0.8358 - val_loss: 1.1312 - val_acc: 0.3529\n",
      "Epoch 6/10\n",
      "67/67 [==============================] - 40s 595ms/sample - loss: 0.2155 - acc: 0.9254 - val_loss: 1.1606 - val_acc: 0.1765\n",
      "Epoch 7/10\n",
      "67/67 [==============================] - 40s 593ms/sample - loss: 0.3618 - acc: 0.9104 - val_loss: 1.3051 - val_acc: 0.3529\n",
      "Epoch 8/10\n",
      "67/67 [==============================] - 40s 592ms/sample - loss: 0.4931 - acc: 0.8955 - val_loss: 1.1350 - val_acc: 0.3529\n",
      "Epoch 9/10\n",
      "67/67 [==============================] - 40s 592ms/sample - loss: 0.1227 - acc: 0.9851 - val_loss: 1.1196 - val_acc: 0.5882\n",
      "Epoch 10/10\n",
      "67/67 [==============================] - 41s 607ms/sample - loss: 0.1044 - acc: 0.9403 - val_loss: 1.2403 - val_acc: 0.3529\n"
     ]
    }
   ],
   "source": [
    "history = model.fit(\n",
    "    x = x_train , y = y_train,\n",
    "    batch_size = batch_size,\n",
    "    epochs = epochs,\n",
    "    validation_split = 0.2,\n",
    ")"
   ]
  },
  {
   "cell_type": "code",
   "execution_count": 29,
   "metadata": {},
   "outputs": [
    {
     "name": "stdout",
     "output_type": "stream",
     "text": [
      "Finish Training Time 2020-05-19 17:00:37.168716+08:00\n"
     ]
    },
    {
     "data": {
      "text/plain": [
       "(5, 13)"
      ]
     },
     "execution_count": 29,
     "metadata": {},
     "output_type": "execute_result"
    }
   ],
   "source": [
    "# Print Finish Training time\n",
    "tpe = pytz.timezone('Asia/Taipei')\n",
    "utc_finish = datetime.datetime.now()\n",
    "print(\"Finish Training Time\", tpe.fromutc(utc_finish))\n",
    "\n",
    "difference = utc_finish-utc_start\n",
    "seconds_in_day = 24 * 60 * 60\n",
    "divmod(difference.days * seconds_in_day + difference.seconds, 60)"
   ]
  },
  {
   "cell_type": "code",
   "execution_count": 14,
   "metadata": {},
   "outputs": [
    {
     "data": {
      "text/plain": [
       "datetime.timedelta(-1, 86370, 295534)"
      ]
     },
     "execution_count": 14,
     "metadata": {},
     "output_type": "execute_result"
    }
   ],
   "source": []
  },
  {
   "cell_type": "markdown",
   "metadata": {
    "colab_type": "text",
    "id": "z8hITtykky6p"
   },
   "source": [
    "## 柒、繪製Model學習成效"
   ]
  },
  {
   "cell_type": "code",
   "execution_count": 40,
   "metadata": {
    "colab": {},
    "colab_type": "code",
    "id": "C5zs_dGRky6p"
   },
   "outputs": [],
   "source": [
    "def plot_learning_curves(history):\n",
    "    pd.DataFrame(history.history).plot(figsize=(8,5))\n",
    "    plt.grid(True)\n",
    "    plt.gca().set_ylim(0,1)\n",
    "    plt.show()"
   ]
  },
  {
   "cell_type": "code",
   "execution_count": 41,
   "metadata": {
    "colab": {
     "base_uri": "https://localhost:8080/",
     "height": 324
    },
    "colab_type": "code",
    "executionInfo": {
     "elapsed": 1109,
     "status": "ok",
     "timestamp": 1586323197049,
     "user": {
      "displayName": "Eddie Shen",
      "photoUrl": "",
      "userId": "15549488555491234711"
     },
     "user_tz": -480
    },
    "id": "PBKx5lEAky6r",
    "outputId": "b5584a3c-e0d9-48d1-bb53-9fda62f2c31b"
   },
   "outputs": [
    {
     "data": {
      "image/png": "[encoded data removed]",
      "text/plain": [
       "<Figure size 576x360 with 1 Axes>"
      ]
     },
     "metadata": {
      "needs_background": "light"
     },
     "output_type": "display_data"
    }
   ],
   "source": [
    "plot_learning_curves(history)"
   ]
  },
  {
   "cell_type": "markdown",
   "metadata": {
    "colab_type": "text",
    "id": "9TJq37Baky6u"
   },
   "source": [
    "## 捌、推測圖片"
   ]
  },
  {
   "cell_type": "code",
   "execution_count": 42,
   "metadata": {
    "colab": {},
    "colab_type": "code",
    "id": "ZVMo3WKEky6u"
   },
   "outputs": [],
   "source": [
    "test_mango_dir = os.path.join(\"C1-P1_Dev\")\n",
    "test_mango_fnames = os.listdir(test_mango_dir)"
   ]
  },
  {
   "cell_type": "code",
   "execution_count": 43,
   "metadata": {
    "colab": {
     "base_uri": "https://localhost:8080/",
     "height": 34
    },
    "colab_type": "code",
    "executionInfo": {
     "elapsed": 1085,
     "status": "ok",
     "timestamp": 1586323228757,
     "user": {
      "displayName": "Eddie Shen",
      "photoUrl": "",
      "userId": "15549488555491234711"
     },
     "user_tz": -480
    },
    "id": "Q3g9nZ8Nky6w",
    "outputId": "2ccf414d-0af7-4a24-bed5-8e5db9b7621e"
   },
   "outputs": [
    {
     "data": {
      "text/plain": [
       "'06462.jpg'"
      ]
     },
     "execution_count": 43,
     "metadata": {},
     "output_type": "execute_result"
    }
   ],
   "source": [
    "test_mango_fnames[0]"
   ]
  },
  {
   "cell_type": "code",
   "execution_count": 44,
   "metadata": {
    "colab": {
     "base_uri": "https://localhost:8080/",
     "height": 298
    },
    "colab_type": "code",
    "executionInfo": {
     "elapsed": 3526,
     "status": "ok",
     "timestamp": 1586323232665,
     "user": {
      "displayName": "Eddie Shen",
      "photoUrl": "",
      "userId": "15549488555491234711"
     },
     "user_tz": -480
    },
    "id": "klkQY_QCky6x",
    "outputId": "28baa160-1605-43a8-87e8-3da33cabaffa"
   },
   "outputs": [
    {
     "data": {
      "text/plain": [
       "<matplotlib.image.AxesImage at 0x7f83fc519e48>"
      ]
     },
     "execution_count": 44,
     "metadata": {},
     "output_type": "execute_result"
    },
    {
     "name": "stderr",
     "output_type": "stream",
     "text": [
      "findfont: Font family ['sans-serif'] not found. Falling back to DejaVu Sans.\n"
     ]
    },
    {
     "data": {
      "image/png": "[encoded data removed]",
      "text/plain": [
       "<Figure size 432x288 with 1 Axes>"
      ]
     },
     "metadata": {
      "needs_background": "light"
     },
     "output_type": "display_data"
    }
   ],
   "source": [
    "img_files = [os.path.join(test_mango_dir,f) for f in test_mango_fnames]\n",
    "img_path = random.choice(img_files)\n",
    "\n",
    "# 讀入待測試圖像並秀出\n",
    "img = load_img(img_path, target_size=(800, 800))  # this is a PIL image\n",
    "plt.title(img_path)\n",
    "plt.grid(False)\n",
    "plt.imshow(img)"
   ]
  },
  {
   "cell_type": "code",
   "execution_count": 45,
   "metadata": {
    "colab": {},
    "colab_type": "code",
    "id": "k43oSCmQky60"
   },
   "outputs": [],
   "source": [
    "labels = ['等級A','等級B',\"等級C\"]"
   ]
  },
  {
   "cell_type": "code",
   "execution_count": 46,
   "metadata": {
    "colab": {
     "base_uri": "https://localhost:8080/",
     "height": 68
    },
    "colab_type": "code",
    "executionInfo": {
     "elapsed": 699,
     "status": "ok",
     "timestamp": 1586323233030,
     "user": {
      "displayName": "Eddie Shen",
      "photoUrl": "",
      "userId": "15549488555491234711"
     },
     "user_tz": -480
    },
    "id": "e3df1ChNky61",
    "outputId": "de574271-aeed-4d94-f417-3a19d86b4799"
   },
   "outputs": [
    {
     "name": "stdout",
     "output_type": "stream",
     "text": [
      "Result = 0.381661\n",
      "Test time :0.262413 second.\n",
      "有 38.17% 機率為等級A\n"
     ]
    }
   ],
   "source": [
    "# 將圖像轉成模型可分析格式(800x800x3, float32)\n",
    "x = img_to_array(img)  # Numpy array with shape (800, 800, 3)\n",
    "x = x.reshape((1,) + x.shape)  # Numpy array with shape (1, 800, 800, 3)\n",
    "x /= 255 # Rescale by 1/255\n",
    "\n",
    "start = time.time() # 啟動計時器\n",
    "result = model.predict(x) # 對輸入圖像進行推論(預測)\n",
    "finish = time.time() # 結束計時器\n",
    "\n",
    "pred = result.argmax(axis=1)[0]\n",
    "pred_prob = result[0][pred]\n",
    "\n",
    "print(\"Result = %f\" %pred_prob) # 印出結果可能機率值(0.0 ~ 1.0)\n",
    "print(\"Test time :%f second.\" %(finish-start)) # 印出推論時間\n",
    "\n",
    "# 設定分類門檻值並印出推論結果\n",
    "print(\"有 {:.2f}% 機率為{}\".format(pred_prob * 100,labels[pred])) # 印出推論時間"
   ]
  },
  {
   "cell_type": "markdown",
   "metadata": {
    "colab_type": "text",
    "id": "y8LFpb0aky63"
   },
   "source": [
    "## 玖、測試集預測準確度"
   ]
  },
  {
   "cell_type": "code",
   "execution_count": 47,
   "metadata": {
    "colab": {},
    "colab_type": "code",
    "id": "UHO_AcgBky63"
   },
   "outputs": [],
   "source": [
    "# 測試集標籤預測\n",
    "y_pred = model.predict(x_test)"
   ]
  },
  {
   "cell_type": "code",
   "execution_count": 48,
   "metadata": {
    "colab": {
     "base_uri": "https://localhost:8080/",
     "height": 34
    },
    "colab_type": "code",
    "executionInfo": {
     "elapsed": 543,
     "status": "ok",
     "timestamp": 1586323237902,
     "user": {
      "displayName": "Eddie Shen",
      "photoUrl": "",
      "userId": "15549488555491234711"
     },
     "user_tz": -480
    },
    "id": "zz83__feky65",
    "outputId": "e15ad7cb-315e-4bc4-f130-a5c01802fab9"
   },
   "outputs": [
    {
     "name": "stdout",
     "output_type": "stream",
     "text": [
      "正确率为:43.09%\n"
     ]
    }
   ],
   "source": [
    "# 整體準確度\n",
    "count = 0\n",
    "for i in range(len(y_pred)):\n",
    "    if(np.argmax(y_pred[i]) == np.argmax(y_test[i])): #argmax函数找到最大值的索引，即为其类别\n",
    "        count += 1\n",
    "score = count/len(y_pred)\n",
    "print('正确率为:%.2f%s' % (score*100,'%'))"
   ]
  },
  {
   "cell_type": "code",
   "execution_count": 49,
   "metadata": {
    "colab": {
     "base_uri": "https://localhost:8080/",
     "height": 51
    },
    "colab_type": "code",
    "executionInfo": {
     "elapsed": 749,
     "status": "ok",
     "timestamp": 1586323238780,
     "user": {
      "displayName": "Eddie Shen",
      "photoUrl": "",
      "userId": "15549488555491234711"
     },
     "user_tz": -480
    },
    "id": "zJ_qqeYbky67",
    "outputId": "7d5d4712-8e18-43dd-fb3d-fb81cb1e7524"
   },
   "outputs": [
    {
     "name": "stdout",
     "output_type": "stream",
     "text": [
      "[0 2 2 ... 2 0 0]\n",
      "1316\n"
     ]
    }
   ],
   "source": [
    "# 模型預測後的標籤\n",
    "predict_label = np.argmax(y_pred,axis=1)\n",
    "print(predict_label)\n",
    "print(len(predict_label))"
   ]
  },
  {
   "cell_type": "code",
   "execution_count": 50,
   "metadata": {
    "colab": {
     "base_uri": "https://localhost:8080/",
     "height": 51
    },
    "colab_type": "code",
    "executionInfo": {
     "elapsed": 1055,
     "status": "ok",
     "timestamp": 1586323239901,
     "user": {
      "displayName": "Eddie Shen",
      "photoUrl": "",
      "userId": "15549488555491234711"
     },
     "user_tz": -480
    },
    "id": "U7GBs7ttky68",
    "outputId": "624dec98-9da9-46c7-930f-c8a9fc25dc00"
   },
   "outputs": [
    {
     "name": "stdout",
     "output_type": "stream",
     "text": [
      "['1' '1' '1' ... '1' '0' '1']\n",
      "1316\n"
     ]
    }
   ],
   "source": [
    "# 模型原標籤\n",
    "true_label = y_label_org[84:]\n",
    "true_label = np.array(true_label)\n",
    "print(true_label)\n",
    "print(len(true_label))"
   ]
  },
  {
   "cell_type": "code",
   "execution_count": 51,
   "metadata": {
    "colab": {
     "base_uri": "https://localhost:8080/",
     "height": 122
    },
    "colab_type": "code",
    "executionInfo": {
     "elapsed": 1383,
     "status": "ok",
     "timestamp": 1586323241251,
     "user": {
      "displayName": "Eddie Shen",
      "photoUrl": "",
      "userId": "15549488555491234711"
     },
     "user_tz": -480
    },
    "id": "wEV8ymtXky6-",
    "outputId": "c83b399b-cde8-4230-afa4-6003697111d1"
   },
   "outputs": [
    {
     "name": "stdout",
     "output_type": "stream",
     "text": [
      "[0 2 2 ... 2 0 0]\n",
      "1316\n"
     ]
    }
   ],
   "source": [
    "# 模型預測後的標籤\n",
    "predictions = model.predict_classes(x_test)\n",
    "print(predictions)\n",
    "print(len(predictions))"
   ]
  },
  {
   "cell_type": "code",
   "execution_count": 52,
   "metadata": {
    "colab": {
     "base_uri": "https://localhost:8080/",
     "height": 173
    },
    "colab_type": "code",
    "executionInfo": {
     "elapsed": 608,
     "status": "ok",
     "timestamp": 1586323241252,
     "user": {
      "displayName": "Eddie Shen",
      "photoUrl": "",
      "userId": "15549488555491234711"
     },
     "user_tz": -480
    },
    "id": "8W-hJ2mcky7A",
    "outputId": "a76f3005-d417-473f-ebbd-c50a6d55f89f"
   },
   "outputs": [
    {
     "data": {
      "text/html": [
       "<div>\n",
       "<style scoped>\n",
       "    .dataframe tbody tr th:only-of-type {\n",
       "        vertical-align: middle;\n",
       "    }\n",
       "\n",
       "    .dataframe tbody tr th {\n",
       "        vertical-align: top;\n",
       "    }\n",
       "\n",
       "    .dataframe thead th {\n",
       "        text-align: right;\n",
       "    }\n",
       "</style>\n",
       "<table border=\"1\" class=\"dataframe\">\n",
       "  <thead>\n",
       "    <tr style=\"text-align: right;\">\n",
       "      <th>預測值</th>\n",
       "      <th>0</th>\n",
       "      <th>1</th>\n",
       "      <th>2</th>\n",
       "    </tr>\n",
       "    <tr>\n",
       "      <th>實際值</th>\n",
       "      <th></th>\n",
       "      <th></th>\n",
       "      <th></th>\n",
       "    </tr>\n",
       "  </thead>\n",
       "  <tbody>\n",
       "    <tr>\n",
       "      <th>0</th>\n",
       "      <td>306</td>\n",
       "      <td>83</td>\n",
       "      <td>7</td>\n",
       "    </tr>\n",
       "    <tr>\n",
       "      <th>1</th>\n",
       "      <td>269</td>\n",
       "      <td>161</td>\n",
       "      <td>101</td>\n",
       "    </tr>\n",
       "    <tr>\n",
       "      <th>2</th>\n",
       "      <td>206</td>\n",
       "      <td>83</td>\n",
       "      <td>100</td>\n",
       "    </tr>\n",
       "  </tbody>\n",
       "</table>\n",
       "</div>"
      ],
      "text/plain": [
       "預測值    0    1    2\n",
       "實際值               \n",
       "0    306   83    7\n",
       "1    269  161  101\n",
       "2    206   83  100"
      ]
     },
     "execution_count": 52,
     "metadata": {},
     "output_type": "execute_result"
    }
   ],
   "source": [
    "pd.crosstab(true_label,predict_label,rownames=['實際值'],colnames=['預測值'])"
   ]
  },
  {
   "cell_type": "code",
   "execution_count": 53,
   "metadata": {
    "colab": {
     "base_uri": "https://localhost:8080/",
     "height": 105
    },
    "colab_type": "code",
    "executionInfo": {
     "elapsed": 56180,
     "status": "ok",
     "timestamp": 1586323343957,
     "user": {
      "displayName": "Eddie Shen",
      "photoUrl": "",
      "userId": "15549488555491234711"
     },
     "user_tz": -480
    },
    "id": "a8ddTbCIo1DZ",
    "outputId": "fb7fc0b5-48ae-486e-a222-9e8e3f0efd12"
   },
   "outputs": [],
   "source": [
    "# 儲存模型相關參數\n",
    "# model.save('h5/'+file_name+'.h5')"
   ]
  }
 ],
 "metadata": {
  "accelerator": "GPU",
  "colab": {
   "collapsed_sections": [],
   "name": "AIMango.ipynb",
   "provenance": [],
   "toc_visible": true
  },
  "kernelspec": {
   "display_name": "conda_tensorflow_p36",
   "language": "python",
   "name": "conda_tensorflow_p36"
  },
  "language_info": {
   "codemirror_mode": {
    "name": "ipython",
    "version": 3
   },
   "file_extension": ".py",
   "mimetype": "text/x-python",
   "name": "python",
   "nbconvert_exporter": "python",
   "pygments_lexer": "ipython3",
   "version": "3.6.10"
  }
 },
 "nbformat": 4,
 "nbformat_minor": 4
}
